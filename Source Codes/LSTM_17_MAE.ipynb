{
 "cells": [
  {
   "cell_type": "markdown",
   "metadata": {},
   "source": [
    "# Beyca Ders"
   ]
  },
  {
   "cell_type": "code",
   "execution_count": 298,
   "metadata": {},
   "outputs": [],
   "source": [
    "import tensorflow as tf\n",
    "import numpy as np\n",
    "import matplotlib.pyplot as plt\n",
    "import os\n",
    "import pandas as pd"
   ]
  },
  {
   "cell_type": "code",
   "execution_count": 299,
   "metadata": {},
   "outputs": [],
   "source": [
    "df = pd.read_excel('7Mayis.xlsx', \n",
    "                 parse_dates={'dt' : ['Tarih', 'Saat']}, \n",
    "                  index_col='dt')"
   ]
  },
  {
   "cell_type": "code",
   "execution_count": 300,
   "metadata": {},
   "outputs": [
    {
     "data": {
      "text/html": [
       "<div>\n",
       "<style scoped>\n",
       "    .dataframe tbody tr th:only-of-type {\n",
       "        vertical-align: middle;\n",
       "    }\n",
       "\n",
       "    .dataframe tbody tr th {\n",
       "        vertical-align: top;\n",
       "    }\n",
       "\n",
       "    .dataframe thead th {\n",
       "        text-align: right;\n",
       "    }\n",
       "</style>\n",
       "<table border=\"1\" class=\"dataframe\">\n",
       "  <thead>\n",
       "    <tr style=\"text-align: right;\">\n",
       "      <th></th>\n",
       "      <th>GIP AOF (TL/MWh)</th>\n",
       "      <th>PTF (TL/MWh)</th>\n",
       "      <th>GOP İşlem Hacmi (TL)</th>\n",
       "      <th>Toplam Uretim (MWh)</th>\n",
       "      <th>Yenilenebilir Uretim</th>\n",
       "      <th>Demand</th>\n",
       "      <th>PTF (h-1)</th>\n",
       "      <th>GIP (h-1)</th>\n",
       "      <th>Pozitif dengesizlik(h-1)</th>\n",
       "      <th>Negatif dengesizlik(h-1)</th>\n",
       "      <th>...</th>\n",
       "      <th>GIP (h-48)</th>\n",
       "      <th>PTF (h-72)</th>\n",
       "      <th>GIP (h-72)</th>\n",
       "      <th>PTF (h-168)</th>\n",
       "      <th>GIP (h-168)</th>\n",
       "      <th>HOUR</th>\n",
       "      <th>MONTH</th>\n",
       "      <th>DAY</th>\n",
       "      <th>WEEKDAY</th>\n",
       "      <th>Sistem Yönü (h-1)</th>\n",
       "    </tr>\n",
       "    <tr>\n",
       "      <th>dt</th>\n",
       "      <th></th>\n",
       "      <th></th>\n",
       "      <th></th>\n",
       "      <th></th>\n",
       "      <th></th>\n",
       "      <th></th>\n",
       "      <th></th>\n",
       "      <th></th>\n",
       "      <th></th>\n",
       "      <th></th>\n",
       "      <th></th>\n",
       "      <th></th>\n",
       "      <th></th>\n",
       "      <th></th>\n",
       "      <th></th>\n",
       "      <th></th>\n",
       "      <th></th>\n",
       "      <th></th>\n",
       "      <th></th>\n",
       "      <th></th>\n",
       "      <th></th>\n",
       "    </tr>\n",
       "  </thead>\n",
       "  <tbody>\n",
       "    <tr>\n",
       "      <th>2016-08-05 00:00:00</th>\n",
       "      <td>133.11</td>\n",
       "      <td>130.00</td>\n",
       "      <td>1373853.00</td>\n",
       "      <td>26456.00</td>\n",
       "      <td>9730.87</td>\n",
       "      <td>27163.45</td>\n",
       "      <td>139.95</td>\n",
       "      <td>130.97</td>\n",
       "      <td>1103.97</td>\n",
       "      <td>-2298.65</td>\n",
       "      <td>...</td>\n",
       "      <td>139.15</td>\n",
       "      <td>210.00</td>\n",
       "      <td>208.37</td>\n",
       "      <td>135.00</td>\n",
       "      <td>25.94</td>\n",
       "      <td>0</td>\n",
       "      <td>5</td>\n",
       "      <td>8</td>\n",
       "      <td>7</td>\n",
       "      <td>0</td>\n",
       "    </tr>\n",
       "    <tr>\n",
       "      <th>2016-08-05 01:00:00</th>\n",
       "      <td>120.60</td>\n",
       "      <td>119.96</td>\n",
       "      <td>1244441.05</td>\n",
       "      <td>25360.39</td>\n",
       "      <td>9517.26</td>\n",
       "      <td>25907.86</td>\n",
       "      <td>130.00</td>\n",
       "      <td>133.11</td>\n",
       "      <td>2055.83</td>\n",
       "      <td>-2052.71</td>\n",
       "      <td>...</td>\n",
       "      <td>126.99</td>\n",
       "      <td>189.98</td>\n",
       "      <td>186.92</td>\n",
       "      <td>100.07</td>\n",
       "      <td>50.07</td>\n",
       "      <td>1</td>\n",
       "      <td>5</td>\n",
       "      <td>8</td>\n",
       "      <td>7</td>\n",
       "      <td>1</td>\n",
       "    </tr>\n",
       "    <tr>\n",
       "      <th>2016-08-05 02:00:00</th>\n",
       "      <td>64.98</td>\n",
       "      <td>70.00</td>\n",
       "      <td>729582.00</td>\n",
       "      <td>24396.19</td>\n",
       "      <td>9187.93</td>\n",
       "      <td>24907.11</td>\n",
       "      <td>119.96</td>\n",
       "      <td>120.60</td>\n",
       "      <td>2681.53</td>\n",
       "      <td>-2222.97</td>\n",
       "      <td>...</td>\n",
       "      <td>126.99</td>\n",
       "      <td>149.11</td>\n",
       "      <td>148.61</td>\n",
       "      <td>70.00</td>\n",
       "      <td>20.58</td>\n",
       "      <td>2</td>\n",
       "      <td>5</td>\n",
       "      <td>8</td>\n",
       "      <td>7</td>\n",
       "      <td>1</td>\n",
       "    </tr>\n",
       "    <tr>\n",
       "      <th>2016-08-05 03:00:00</th>\n",
       "      <td>10.00</td>\n",
       "      <td>0.86</td>\n",
       "      <td>51867.14</td>\n",
       "      <td>23842.12</td>\n",
       "      <td>8849.38</td>\n",
       "      <td>23996.10</td>\n",
       "      <td>70.00</td>\n",
       "      <td>64.98</td>\n",
       "      <td>3308.60</td>\n",
       "      <td>-2351.22</td>\n",
       "      <td>...</td>\n",
       "      <td>10.00</td>\n",
       "      <td>120.78</td>\n",
       "      <td>120.53</td>\n",
       "      <td>0.35</td>\n",
       "      <td>14.00</td>\n",
       "      <td>3</td>\n",
       "      <td>5</td>\n",
       "      <td>8</td>\n",
       "      <td>7</td>\n",
       "      <td>1</td>\n",
       "    </tr>\n",
       "    <tr>\n",
       "      <th>2016-08-05 04:00:00</th>\n",
       "      <td>10.00</td>\n",
       "      <td>0.94</td>\n",
       "      <td>52679.34</td>\n",
       "      <td>23675.50</td>\n",
       "      <td>8818.16</td>\n",
       "      <td>23807.93</td>\n",
       "      <td>0.86</td>\n",
       "      <td>10.00</td>\n",
       "      <td>2770.42</td>\n",
       "      <td>-1621.79</td>\n",
       "      <td>...</td>\n",
       "      <td>0.00</td>\n",
       "      <td>113.94</td>\n",
       "      <td>113.31</td>\n",
       "      <td>0.82</td>\n",
       "      <td>12.13</td>\n",
       "      <td>4</td>\n",
       "      <td>5</td>\n",
       "      <td>8</td>\n",
       "      <td>7</td>\n",
       "      <td>1</td>\n",
       "    </tr>\n",
       "  </tbody>\n",
       "</table>\n",
       "<p>5 rows × 35 columns</p>\n",
       "</div>"
      ],
      "text/plain": [
       "                     GIP AOF (TL/MWh)  PTF (TL/MWh)  GOP İşlem Hacmi (TL)  \\\n",
       "dt                                                                          \n",
       "2016-08-05 00:00:00            133.11        130.00            1373853.00   \n",
       "2016-08-05 01:00:00            120.60        119.96            1244441.05   \n",
       "2016-08-05 02:00:00             64.98         70.00             729582.00   \n",
       "2016-08-05 03:00:00             10.00          0.86              51867.14   \n",
       "2016-08-05 04:00:00             10.00          0.94              52679.34   \n",
       "\n",
       "                     Toplam Uretim (MWh)  Yenilenebilir Uretim    Demand  \\\n",
       "dt                                                                         \n",
       "2016-08-05 00:00:00             26456.00               9730.87  27163.45   \n",
       "2016-08-05 01:00:00             25360.39               9517.26  25907.86   \n",
       "2016-08-05 02:00:00             24396.19               9187.93  24907.11   \n",
       "2016-08-05 03:00:00             23842.12               8849.38  23996.10   \n",
       "2016-08-05 04:00:00             23675.50               8818.16  23807.93   \n",
       "\n",
       "                     PTF (h-1)  GIP (h-1)  Pozitif dengesizlik(h-1)  \\\n",
       "dt                                                                    \n",
       "2016-08-05 00:00:00     139.95     130.97                   1103.97   \n",
       "2016-08-05 01:00:00     130.00     133.11                   2055.83   \n",
       "2016-08-05 02:00:00     119.96     120.60                   2681.53   \n",
       "2016-08-05 03:00:00      70.00      64.98                   3308.60   \n",
       "2016-08-05 04:00:00       0.86      10.00                   2770.42   \n",
       "\n",
       "                     Negatif dengesizlik(h-1)  ...  GIP (h-48)  PTF (h-72)  \\\n",
       "dt                                             ...                           \n",
       "2016-08-05 00:00:00                  -2298.65  ...      139.15      210.00   \n",
       "2016-08-05 01:00:00                  -2052.71  ...      126.99      189.98   \n",
       "2016-08-05 02:00:00                  -2222.97  ...      126.99      149.11   \n",
       "2016-08-05 03:00:00                  -2351.22  ...       10.00      120.78   \n",
       "2016-08-05 04:00:00                  -1621.79  ...        0.00      113.94   \n",
       "\n",
       "                     GIP (h-72)  PTF (h-168)  GIP (h-168)  HOUR  MONTH  DAY  \\\n",
       "dt                                                                            \n",
       "2016-08-05 00:00:00      208.37       135.00        25.94     0      5    8   \n",
       "2016-08-05 01:00:00      186.92       100.07        50.07     1      5    8   \n",
       "2016-08-05 02:00:00      148.61        70.00        20.58     2      5    8   \n",
       "2016-08-05 03:00:00      120.53         0.35        14.00     3      5    8   \n",
       "2016-08-05 04:00:00      113.31         0.82        12.13     4      5    8   \n",
       "\n",
       "                     WEEKDAY  Sistem Yönü (h-1)  \n",
       "dt                                               \n",
       "2016-08-05 00:00:00        7                  0  \n",
       "2016-08-05 01:00:00        7                  1  \n",
       "2016-08-05 02:00:00        7                  1  \n",
       "2016-08-05 03:00:00        7                  1  \n",
       "2016-08-05 04:00:00        7                  1  \n",
       "\n",
       "[5 rows x 35 columns]"
      ]
     },
     "execution_count": 300,
     "metadata": {},
     "output_type": "execute_result"
    }
   ],
   "source": [
    "df.head()"
   ]
  },
  {
   "cell_type": "code",
   "execution_count": 301,
   "metadata": {},
   "outputs": [
    {
     "data": {
      "text/plain": [
       "GIP AOF (TL/MWh)            0\n",
       "PTF (TL/MWh)                0\n",
       "GOP İşlem Hacmi (TL)        0\n",
       "Toplam Uretim (MWh)         0\n",
       "Yenilenebilir Uretim        0\n",
       "Demand                      0\n",
       "PTF (h-1)                   0\n",
       "GIP (h-1)                   0\n",
       "Pozitif dengesizlik(h-1)    0\n",
       "Negatif dengesizlik(h-1)    0\n",
       "PTF (h-2)                   0\n",
       "GIP (h-2)                   0\n",
       "Pozitif dengesizlik(h-2)    0\n",
       "Negatif dengesizlik(h-2)    0\n",
       "PTF (h-3)                   0\n",
       "GIP (h-3)                   0\n",
       "Pozitif dengesizlik(h-3)    0\n",
       "Negatif dengesizlik(h-3)    0\n",
       "PTF (h-8)                   0\n",
       "GIP (h-8)                   0\n",
       "Pozitif dengesizlik(h-8)    0\n",
       "Negatif dengesizlik(h-8)    0\n",
       "PTF (h-24)                  0\n",
       "GIP (h-24)                  0\n",
       "PTF (h-48)                  0\n",
       "GIP (h-48)                  0\n",
       "PTF (h-72)                  0\n",
       "GIP (h-72)                  0\n",
       "PTF (h-168)                 0\n",
       "GIP (h-168)                 0\n",
       "HOUR                        0\n",
       "MONTH                       0\n",
       "DAY                         0\n",
       "WEEKDAY                     0\n",
       "Sistem Yönü (h-1)           0\n",
       "dtype: int64"
      ]
     },
     "execution_count": 301,
     "metadata": {},
     "output_type": "execute_result"
    }
   ],
   "source": [
    "df.isna().sum()"
   ]
  },
  {
   "cell_type": "code",
   "execution_count": 302,
   "metadata": {},
   "outputs": [],
   "source": [
    "df = df[['PTF (TL/MWh)', 'PTF (h-1)', 'GIP (h-1)', 'PTF (h-2)', 'GIP (h-2)', 'PTF (h-24)',\n",
    "         'GIP (h-24)', 'PTF (h-168)', 'GIP (h-168)']]"
   ]
  },
  {
   "cell_type": "code",
   "execution_count": 303,
   "metadata": {},
   "outputs": [
    {
     "data": {
      "text/html": [
       "<div>\n",
       "<style scoped>\n",
       "    .dataframe tbody tr th:only-of-type {\n",
       "        vertical-align: middle;\n",
       "    }\n",
       "\n",
       "    .dataframe tbody tr th {\n",
       "        vertical-align: top;\n",
       "    }\n",
       "\n",
       "    .dataframe thead th {\n",
       "        text-align: right;\n",
       "    }\n",
       "</style>\n",
       "<table border=\"1\" class=\"dataframe\">\n",
       "  <thead>\n",
       "    <tr style=\"text-align: right;\">\n",
       "      <th></th>\n",
       "      <th>PTF (TL/MWh)</th>\n",
       "      <th>PTF (h-1)</th>\n",
       "      <th>GIP (h-1)</th>\n",
       "      <th>PTF (h-2)</th>\n",
       "      <th>GIP (h-2)</th>\n",
       "      <th>PTF (h-24)</th>\n",
       "      <th>GIP (h-24)</th>\n",
       "      <th>PTF (h-168)</th>\n",
       "      <th>GIP (h-168)</th>\n",
       "    </tr>\n",
       "    <tr>\n",
       "      <th>dt</th>\n",
       "      <th></th>\n",
       "      <th></th>\n",
       "      <th></th>\n",
       "      <th></th>\n",
       "      <th></th>\n",
       "      <th></th>\n",
       "      <th></th>\n",
       "      <th></th>\n",
       "      <th></th>\n",
       "    </tr>\n",
       "  </thead>\n",
       "  <tbody>\n",
       "    <tr>\n",
       "      <th>2016-08-05 00:00:00</th>\n",
       "      <td>130.00</td>\n",
       "      <td>139.95</td>\n",
       "      <td>130.97</td>\n",
       "      <td>149.98</td>\n",
       "      <td>147.40</td>\n",
       "      <td>139.96</td>\n",
       "      <td>138.33</td>\n",
       "      <td>135.00</td>\n",
       "      <td>25.94</td>\n",
       "    </tr>\n",
       "    <tr>\n",
       "      <th>2016-08-05 01:00:00</th>\n",
       "      <td>119.96</td>\n",
       "      <td>130.00</td>\n",
       "      <td>133.11</td>\n",
       "      <td>139.95</td>\n",
       "      <td>130.97</td>\n",
       "      <td>139.95</td>\n",
       "      <td>139.71</td>\n",
       "      <td>100.07</td>\n",
       "      <td>50.07</td>\n",
       "    </tr>\n",
       "    <tr>\n",
       "      <th>2016-08-05 02:00:00</th>\n",
       "      <td>70.00</td>\n",
       "      <td>119.96</td>\n",
       "      <td>120.60</td>\n",
       "      <td>130.00</td>\n",
       "      <td>133.11</td>\n",
       "      <td>128.00</td>\n",
       "      <td>129.23</td>\n",
       "      <td>70.00</td>\n",
       "      <td>20.58</td>\n",
       "    </tr>\n",
       "    <tr>\n",
       "      <th>2016-08-05 03:00:00</th>\n",
       "      <td>0.86</td>\n",
       "      <td>70.00</td>\n",
       "      <td>64.98</td>\n",
       "      <td>119.96</td>\n",
       "      <td>120.60</td>\n",
       "      <td>5.09</td>\n",
       "      <td>5.10</td>\n",
       "      <td>0.35</td>\n",
       "      <td>14.00</td>\n",
       "    </tr>\n",
       "    <tr>\n",
       "      <th>2016-08-05 04:00:00</th>\n",
       "      <td>0.94</td>\n",
       "      <td>0.86</td>\n",
       "      <td>10.00</td>\n",
       "      <td>70.00</td>\n",
       "      <td>64.98</td>\n",
       "      <td>5.10</td>\n",
       "      <td>5.10</td>\n",
       "      <td>0.82</td>\n",
       "      <td>12.13</td>\n",
       "    </tr>\n",
       "  </tbody>\n",
       "</table>\n",
       "</div>"
      ],
      "text/plain": [
       "                     PTF (TL/MWh)  PTF (h-1)  GIP (h-1)  PTF (h-2)  GIP (h-2)  \\\n",
       "dt                                                                              \n",
       "2016-08-05 00:00:00        130.00     139.95     130.97     149.98     147.40   \n",
       "2016-08-05 01:00:00        119.96     130.00     133.11     139.95     130.97   \n",
       "2016-08-05 02:00:00         70.00     119.96     120.60     130.00     133.11   \n",
       "2016-08-05 03:00:00          0.86      70.00      64.98     119.96     120.60   \n",
       "2016-08-05 04:00:00          0.94       0.86      10.00      70.00      64.98   \n",
       "\n",
       "                     PTF (h-24)  GIP (h-24)  PTF (h-168)  GIP (h-168)  \n",
       "dt                                                                     \n",
       "2016-08-05 00:00:00      139.96      138.33       135.00        25.94  \n",
       "2016-08-05 01:00:00      139.95      139.71       100.07        50.07  \n",
       "2016-08-05 02:00:00      128.00      129.23        70.00        20.58  \n",
       "2016-08-05 03:00:00        5.09        5.10         0.35        14.00  \n",
       "2016-08-05 04:00:00        5.10        5.10         0.82        12.13  "
      ]
     },
     "execution_count": 303,
     "metadata": {},
     "output_type": "execute_result"
    }
   ],
   "source": [
    "df.head()"
   ]
  },
  {
   "cell_type": "code",
   "execution_count": 304,
   "metadata": {},
   "outputs": [
    {
     "name": "stdout",
     "output_type": "stream",
     "text": [
      "(34924, 9)\n",
      "(8732, 9)\n"
     ]
    }
   ],
   "source": [
    "#datayi hazirlamadan once bir train ve test diye ayiralim.\n",
    "n = len(df)\n",
    "train_df = df[:int(0.8*n)]\n",
    "test_df = df[int(0.8*n):]\n",
    "print(train_df.shape)\n",
    "print(test_df.shape)\n",
    "\n",
    "#simdi datayi normalize etmemiz lazim (butun deep learning modelleri icin bunu unutmamaliyiz)\n",
    "#train datasi uzerinden normalize edecegiz.\n",
    "train_mean = train_df.mean()\n",
    "train_std = train_df.std()\n",
    "\n",
    "train_df = (train_df - train_mean) / train_std\n",
    "test_df = (test_df - train_mean) / train_std"
   ]
  },
  {
   "cell_type": "code",
   "execution_count": 305,
   "metadata": {},
   "outputs": [],
   "source": [
    "#offset kac adim sonrasini tahmin etmek istedigimizle alakalidir.\n",
    "#period kac tane datayi tahmin edecegimizle alakalidir.\n",
    "#period offsetten buyuk olamaz.\n",
    "#target_col = 1 yani 1.sutunu tahmin ediyoruz 0'i degil.\n",
    "def make_data(data,lag = 72, offset = 2, period = 1, target_col = 0):\n",
    "    X = []\n",
    "    y = []\n",
    "    for i in range(len(data) - lag - offset):\n",
    "        X.append(data[i:i+lag,:])\n",
    "        y.append(data[i+lag + offset - 1,target_col])\n",
    "\n",
    "    return np.array(X), np.array(y)"
   ]
  },
  {
   "cell_type": "code",
   "execution_count": 306,
   "metadata": {},
   "outputs": [
    {
     "name": "stdout",
     "output_type": "stream",
     "text": [
      "(34850, 72, 9)\n",
      "[[[-0.96271066 -0.84434829 -0.93448682 ... -0.84433388 -0.89652457\n",
      "   -2.20539606]\n",
      "  [-1.08209345 -0.96266197 -0.90845075 ... -0.82754695 -1.31187866\n",
      "   -1.91188206]\n",
      "  [-1.67615362 -1.08204583 -1.06065223 ... -0.95503025 -1.66944228\n",
      "   -2.27059436]\n",
      "  ...\n",
      "  [-0.48731984 -0.25016391 -0.30110481 ... -0.42721535 -0.37878861\n",
      "   -0.3449333 ]\n",
      "  [-0.85581312 -0.4872669  -0.51219159 ... -0.47854927 -1.02780167\n",
      "   -0.98499574]\n",
      "  [-0.880308   -0.85576348 -0.88399632 ... -0.59180017 -1.16823487\n",
      "   -1.10699928]]\n",
      "\n",
      " [[-1.08209345 -0.96266197 -0.90845075 ... -0.82754695 -1.31187866\n",
      "   -1.91188206]\n",
      "  [-1.67615362 -1.08204583 -1.06065223 ... -0.95503025 -1.66944228\n",
      "   -2.27059436]\n",
      "  [-2.49827772 -1.67611131 -1.73734658 ... -2.46500174 -2.49765333\n",
      "   -2.35063258]\n",
      "  ...\n",
      "  [-0.85581312 -0.4872669  -0.51219159 ... -0.47854927 -1.02780167\n",
      "   -0.98499574]\n",
      "  [-0.880308   -0.85576348 -0.88399632 ... -0.59180017 -1.16823487\n",
      "   -1.10699928]\n",
      "  [-0.65628691 -0.88025858 -0.89445941 ... -0.84250921 -0.12360686\n",
      "   -0.10092622]]]\n",
      "[-0.65623549 -0.98668144]\n"
     ]
    }
   ],
   "source": [
    "lag = 72 #3 saat oncesine bakip sicakligi tahmin ediyor\n",
    "offset = 2 #1 saat sonrasini tahmin ediyor.\n",
    "period = 1\n",
    "target_col = 1\n",
    "n_features = train_df.shape[1]\n",
    "#train_df.values dersek sade bir numpy arrayi olarak alir.\n",
    "X_train, y_train = make_data(train_df.values, lag = lag, offset = offset, period = period,target_col = target_col)\n",
    "X_test, y_test = make_data(test_df.values, lag = lag, offset = offset, period = period,target_col = target_col)\n",
    "print(X_train.shape) #56k sample var her bir satirda 3 adim geriye bakmisim, 2 tane de featureimiz var.\n",
    "print(X_train[:2])\n",
    "print(y_train[:2])"
   ]
  },
  {
   "cell_type": "markdown",
   "metadata": {},
   "source": [
    "# LSTM"
   ]
  },
  {
   "cell_type": "code",
   "execution_count": 307,
   "metadata": {},
   "outputs": [
    {
     "name": "stdout",
     "output_type": "stream",
     "text": [
      "X_train.shape:  (34850, 72, 9)\n",
      "y_train.shape: (34850,)\n",
      "X_test.shape: (8658, 72, 9)\n",
      "y_test.shape:  (8658,)\n"
     ]
    }
   ],
   "source": [
    "# Print data shape\n",
    "print(\"X_train.shape: \", X_train.shape)\n",
    "print(\"y_train.shape:\", y_train.shape)\n",
    "print(\"X_test.shape:\", X_test.shape) \n",
    "print(\"y_test.shape: \", y_test.shape)"
   ]
  },
  {
   "cell_type": "code",
   "execution_count": 308,
   "metadata": {},
   "outputs": [],
   "source": [
    "model = tf.keras.models.Sequential()\n",
    "\n",
    "model.add(tf.keras.layers.LSTM(64,input_shape = (lag, n_features)))\n",
    "model.add(tf.keras.layers.Dense(64, activation = 'relu'))\n",
    "model.add(tf.keras.layers.Dense(32, activation = 'relu'))\n",
    "model.add(tf.keras.layers.Dense(16, activation = 'relu'))\n",
    "model.add(tf.keras.layers.Dense(8, activation = 'relu'))\n",
    "model.add(tf.keras.layers.Dense(4, activation = 'relu'))\n",
    "model.add(tf.keras.layers.Dense(period)) #activation linear olsun"
   ]
  },
  {
   "cell_type": "code",
   "execution_count": 309,
   "metadata": {},
   "outputs": [
    {
     "name": "stdout",
     "output_type": "stream",
     "text": [
      "1090/1090 [==============================] - 39s 36ms/step - loss: 0.2930 - mae: 0.2930 - val_loss: 0.2139 - val_mae: 0.2139\n"
     ]
    }
   ],
   "source": [
    "model.compile(optimizer = 'adam',loss = 'mae', metrics = ['mae'])\n",
    "history = model.fit(X_train,y_train, epochs = 1,  validation_data=(X_test, y_test))"
   ]
  },
  {
   "cell_type": "code",
   "execution_count": 310,
   "metadata": {},
   "outputs": [
    {
     "data": {
      "image/png": "[encoded data removed]",
      "text/plain": [
       "<Figure size 432x288 with 1 Axes>"
      ]
     },
     "metadata": {
      "needs_background": "light"
     },
     "output_type": "display_data"
    }
   ],
   "source": [
    "pyplot.plot(history.history['loss'], label='train')\n",
    "pyplot.plot(history.history['val_loss'], label='test')\n",
    "pyplot.legend()\n",
    "pyplot.show()"
   ]
  },
  {
   "cell_type": "code",
   "execution_count": 311,
   "metadata": {},
   "outputs": [
    {
     "data": {
      "text/plain": [
       "<matplotlib.legend.Legend at 0x1dc92a66af0>"
      ]
     },
     "execution_count": 311,
     "metadata": {},
     "output_type": "execute_result"
    },
    {
     "data": {
      "image/png": "[encoded data removed]",
      "text/plain": [
       "<Figure size 432x288 with 1 Axes>"
      ]
     },
     "metadata": {
      "needs_background": "light"
     },
     "output_type": "display_data"
    }
   ],
   "source": [
    "ypred = model.predict(X_test)\n",
    "\n",
    "plt.plot(y_test[-72:], '-ob', label =  'observed')\n",
    "plt.plot(ypred[-72:], '-r', label = 'forecasted')\n",
    "plt.grid()\n",
    "plt.legend()"
   ]
  },
  {
   "cell_type": "code",
   "execution_count": 312,
   "metadata": {},
   "outputs": [
    {
     "data": {
      "text/plain": [
       "(8658, 1)"
      ]
     },
     "execution_count": 312,
     "metadata": {},
     "output_type": "execute_result"
    }
   ],
   "source": [
    "ypred.shape"
   ]
  },
  {
   "cell_type": "code",
   "execution_count": 313,
   "metadata": {},
   "outputs": [],
   "source": [
    "ypred_old = (ypred * train_std[1]) + train_mean[1]"
   ]
  },
  {
   "cell_type": "code",
   "execution_count": 314,
   "metadata": {},
   "outputs": [],
   "source": [
    "y_test_old = (y_test*train_std[1]) + train_mean[1]"
   ]
  },
  {
   "cell_type": "code",
   "execution_count": 315,
   "metadata": {},
   "outputs": [
    {
     "data": {
      "text/plain": [
       "array([[302.99304],\n",
       "       [250.75722],\n",
       "       [209.87372],\n",
       "       ...,\n",
       "       [378.84192],\n",
       "       [385.7566 ],\n",
       "       [384.24713]], dtype=float32)"
      ]
     },
     "execution_count": 315,
     "metadata": {},
     "output_type": "execute_result"
    }
   ],
   "source": [
    "ypred_old"
   ]
  },
  {
   "cell_type": "code",
   "execution_count": 316,
   "metadata": {},
   "outputs": [
    {
     "data": {
      "text/plain": [
       "array([250.01, 220.  , 167.4 , ..., 376.71, 372.17, 369.02])"
      ]
     },
     "execution_count": 316,
     "metadata": {},
     "output_type": "execute_result"
    }
   ],
   "source": [
    "y_test_old"
   ]
  },
  {
   "cell_type": "code",
   "execution_count": 317,
   "metadata": {},
   "outputs": [],
   "source": [
    "from sklearn.metrics import mean_absolute_error as mae"
   ]
  },
  {
   "cell_type": "code",
   "execution_count": 318,
   "metadata": {},
   "outputs": [
    {
     "data": {
      "text/plain": [
       "17.986569237588984"
      ]
     },
     "execution_count": 318,
     "metadata": {},
     "output_type": "execute_result"
    }
   ],
   "source": [
    "mae(ypred_old,y_test_old)"
   ]
  },
  {
   "cell_type": "code",
   "execution_count": 319,
   "metadata": {
    "scrolled": true
   },
   "outputs": [
    {
     "data": {
      "text/plain": [
       "<matplotlib.legend.Legend at 0x1dca09f0b80>"
      ]
     },
     "execution_count": 319,
     "metadata": {},
     "output_type": "execute_result"
    },
    {
     "data": {
      "image/png": "[encoded data removed]",
      "text/plain": [
       "<Figure size 432x288 with 1 Axes>"
      ]
     },
     "metadata": {
      "needs_background": "light"
     },
     "output_type": "display_data"
    }
   ],
   "source": [
    "ypred = model.predict(X_test)\n",
    "\n",
    "plt.plot(y_test_old[-168:], '-ob', label =  'observed')\n",
    "plt.plot(ypred_old[-168:], '-r', label = 'forecasted')\n",
    "plt.grid()\n",
    "plt.legend()"
   ]
  },
  {
   "cell_type": "code",
   "execution_count": null,
   "metadata": {},
   "outputs": [],
   "source": []
  }
 ],
 "metadata": {
  "kernelspec": {
   "display_name": "Python 3",
   "language": "python",
   "name": "python3"
  },
  "language_info": {
   "codemirror_mode": {
    "name": "ipython",
    "version": 3
   },
   "file_extension": ".py",
   "mimetype": "text/x-python",
   "name": "python",
   "nbconvert_exporter": "python",
   "pygments_lexer": "ipython3",
   "version": "3.7.6"
  }
 },
 "nbformat": 4,
 "nbformat_minor": 4
}
