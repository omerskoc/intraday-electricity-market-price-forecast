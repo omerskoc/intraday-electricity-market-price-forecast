{
 "cells": [
  {
   "cell_type": "markdown",
   "metadata": {},
   "source": [
    "# Data Exploration"
   ]
  },
  {
   "cell_type": "code",
   "execution_count": 123,
   "metadata": {},
   "outputs": [],
   "source": [
    "import numpy as np\n",
    "import pandas as pd"
   ]
  },
  {
   "cell_type": "code",
   "execution_count": 124,
   "metadata": {},
   "outputs": [],
   "source": [
    "df = pd.read_excel('eski_veriV2.xls', \n",
    "                 parse_dates={'dt' : ['Tarih', 'Saat']}, \n",
    "                  index_col='dt')"
   ]
  },
  {
   "cell_type": "code",
   "execution_count": 125,
   "metadata": {
    "scrolled": true
   },
   "outputs": [
    {
     "data": {
      "text/html": [
       "<div>\n",
       "<style scoped>\n",
       "    .dataframe tbody tr th:only-of-type {\n",
       "        vertical-align: middle;\n",
       "    }\n",
       "\n",
       "    .dataframe tbody tr th {\n",
       "        vertical-align: top;\n",
       "    }\n",
       "\n",
       "    .dataframe thead th {\n",
       "        text-align: right;\n",
       "    }\n",
       "</style>\n",
       "<table border=\"1\" class=\"dataframe\">\n",
       "  <thead>\n",
       "    <tr style=\"text-align: right;\">\n",
       "      <th></th>\n",
       "      <th>GIP USD</th>\n",
       "      <th>PTF (USD/MWh)</th>\n",
       "      <th>GOP Islem Hacmi (USD)</th>\n",
       "      <th>Toplam Uretim (MWh)</th>\n",
       "      <th>Yenilenebilir Uretim</th>\n",
       "      <th>Doğal Gaz</th>\n",
       "      <th>Barajlı</th>\n",
       "      <th>Linyit</th>\n",
       "      <th>Akarsu</th>\n",
       "      <th>İthal Kömür</th>\n",
       "      <th>...</th>\n",
       "      <th>GIP (h-72)</th>\n",
       "      <th>Demand (h-168)</th>\n",
       "      <th>PTF (h-168)</th>\n",
       "      <th>GIP (h-168)</th>\n",
       "      <th>HOUR</th>\n",
       "      <th>MONTH</th>\n",
       "      <th>YEAR</th>\n",
       "      <th>DAY</th>\n",
       "      <th>WEEKDAY</th>\n",
       "      <th>Sistem Yönü (h-1)</th>\n",
       "    </tr>\n",
       "    <tr>\n",
       "      <th>dt</th>\n",
       "      <th></th>\n",
       "      <th></th>\n",
       "      <th></th>\n",
       "      <th></th>\n",
       "      <th></th>\n",
       "      <th></th>\n",
       "      <th></th>\n",
       "      <th></th>\n",
       "      <th></th>\n",
       "      <th></th>\n",
       "      <th></th>\n",
       "      <th></th>\n",
       "      <th></th>\n",
       "      <th></th>\n",
       "      <th></th>\n",
       "      <th></th>\n",
       "      <th></th>\n",
       "      <th></th>\n",
       "      <th></th>\n",
       "      <th></th>\n",
       "      <th></th>\n",
       "    </tr>\n",
       "  </thead>\n",
       "  <tbody>\n",
       "    <tr>\n",
       "      <th>2016-01-05 00:00:00</th>\n",
       "      <td>9.259619</td>\n",
       "      <td>48.19</td>\n",
       "      <td>517628.066000</td>\n",
       "      <td>26261.65</td>\n",
       "      <td>10484.86</td>\n",
       "      <td>5703.53</td>\n",
       "      <td>4636.68</td>\n",
       "      <td>3686.37</td>\n",
       "      <td>3329.43</td>\n",
       "      <td>5475.19</td>\n",
       "      <td>...</td>\n",
       "      <td>58.898889</td>\n",
       "      <td>26471.26</td>\n",
       "      <td>45.93</td>\n",
       "      <td>39.265926</td>\n",
       "      <td>0</td>\n",
       "      <td>5</td>\n",
       "      <td>2016</td>\n",
       "      <td>1</td>\n",
       "      <td>7</td>\n",
       "      <td>1</td>\n",
       "    </tr>\n",
       "    <tr>\n",
       "      <th>2016-01-05 01:00:00</th>\n",
       "      <td>17.872493</td>\n",
       "      <td>35.72</td>\n",
       "      <td>373599.053071</td>\n",
       "      <td>25144.45</td>\n",
       "      <td>9996.44</td>\n",
       "      <td>5262.77</td>\n",
       "      <td>4229.74</td>\n",
       "      <td>3649.37</td>\n",
       "      <td>3388.04</td>\n",
       "      <td>5331.30</td>\n",
       "      <td>...</td>\n",
       "      <td>48.861090</td>\n",
       "      <td>25005.52</td>\n",
       "      <td>45.96</td>\n",
       "      <td>39.265926</td>\n",
       "      <td>1</td>\n",
       "      <td>5</td>\n",
       "      <td>2016</td>\n",
       "      <td>1</td>\n",
       "      <td>7</td>\n",
       "      <td>1</td>\n",
       "    </tr>\n",
       "    <tr>\n",
       "      <th>2016-01-05 02:00:00</th>\n",
       "      <td>7.347060</td>\n",
       "      <td>24.99</td>\n",
       "      <td>264766.836600</td>\n",
       "      <td>24052.60</td>\n",
       "      <td>9304.58</td>\n",
       "      <td>5171.30</td>\n",
       "      <td>3555.62</td>\n",
       "      <td>3550.88</td>\n",
       "      <td>3448.53</td>\n",
       "      <td>5123.93</td>\n",
       "      <td>...</td>\n",
       "      <td>44.620370</td>\n",
       "      <td>23983.51</td>\n",
       "      <td>43.82</td>\n",
       "      <td>37.481111</td>\n",
       "      <td>2</td>\n",
       "      <td>5</td>\n",
       "      <td>2016</td>\n",
       "      <td>1</td>\n",
       "      <td>7</td>\n",
       "      <td>1</td>\n",
       "    </tr>\n",
       "    <tr>\n",
       "      <th>2016-01-05 03:00:00</th>\n",
       "      <td>4.800000</td>\n",
       "      <td>0.12</td>\n",
       "      <td>18187.134857</td>\n",
       "      <td>23507.84</td>\n",
       "      <td>8988.91</td>\n",
       "      <td>5173.42</td>\n",
       "      <td>3259.57</td>\n",
       "      <td>3526.00</td>\n",
       "      <td>3423.78</td>\n",
       "      <td>4999.26</td>\n",
       "      <td>...</td>\n",
       "      <td>24.987407</td>\n",
       "      <td>23194.25</td>\n",
       "      <td>9.29</td>\n",
       "      <td>32.440794</td>\n",
       "      <td>3</td>\n",
       "      <td>5</td>\n",
       "      <td>2016</td>\n",
       "      <td>1</td>\n",
       "      <td>7</td>\n",
       "      <td>1</td>\n",
       "    </tr>\n",
       "    <tr>\n",
       "      <th>2016-01-05 04:00:00</th>\n",
       "      <td>4.289878</td>\n",
       "      <td>0.29</td>\n",
       "      <td>20371.792683</td>\n",
       "      <td>23179.01</td>\n",
       "      <td>9155.65</td>\n",
       "      <td>5252.19</td>\n",
       "      <td>3287.25</td>\n",
       "      <td>3402.97</td>\n",
       "      <td>3433.64</td>\n",
       "      <td>4639.93</td>\n",
       "      <td>...</td>\n",
       "      <td>24.987407</td>\n",
       "      <td>23155.13</td>\n",
       "      <td>1.78</td>\n",
       "      <td>2.655804</td>\n",
       "      <td>4</td>\n",
       "      <td>5</td>\n",
       "      <td>2016</td>\n",
       "      <td>1</td>\n",
       "      <td>7</td>\n",
       "      <td>1</td>\n",
       "    </tr>\n",
       "  </tbody>\n",
       "</table>\n",
       "<p>5 rows × 59 columns</p>\n",
       "</div>"
      ],
      "text/plain": [
       "                       GIP USD  PTF (USD/MWh)  GOP Islem Hacmi (USD)  \\\n",
       "dt                                                                     \n",
       "2016-01-05 00:00:00   9.259619          48.19          517628.066000   \n",
       "2016-01-05 01:00:00  17.872493          35.72          373599.053071   \n",
       "2016-01-05 02:00:00   7.347060          24.99          264766.836600   \n",
       "2016-01-05 03:00:00   4.800000           0.12           18187.134857   \n",
       "2016-01-05 04:00:00   4.289878           0.29           20371.792683   \n",
       "\n",
       "                     Toplam Uretim (MWh)  Yenilenebilir Uretim  Doğal Gaz  \\\n",
       "dt                                                                          \n",
       "2016-01-05 00:00:00             26261.65              10484.86    5703.53   \n",
       "2016-01-05 01:00:00             25144.45               9996.44    5262.77   \n",
       "2016-01-05 02:00:00             24052.60               9304.58    5171.30   \n",
       "2016-01-05 03:00:00             23507.84               8988.91    5173.42   \n",
       "2016-01-05 04:00:00             23179.01               9155.65    5252.19   \n",
       "\n",
       "                     Barajlı   Linyit   Akarsu  İthal Kömür  ...  GIP (h-72)  \\\n",
       "dt                                                           ...               \n",
       "2016-01-05 00:00:00  4636.68  3686.37  3329.43      5475.19  ...   58.898889   \n",
       "2016-01-05 01:00:00  4229.74  3649.37  3388.04      5331.30  ...   48.861090   \n",
       "2016-01-05 02:00:00  3555.62  3550.88  3448.53      5123.93  ...   44.620370   \n",
       "2016-01-05 03:00:00  3259.57  3526.00  3423.78      4999.26  ...   24.987407   \n",
       "2016-01-05 04:00:00  3287.25  3402.97  3433.64      4639.93  ...   24.987407   \n",
       "\n",
       "                     Demand (h-168)  PTF (h-168)  GIP (h-168)  HOUR  MONTH  \\\n",
       "dt                                                                           \n",
       "2016-01-05 00:00:00        26471.26        45.93    39.265926     0      5   \n",
       "2016-01-05 01:00:00        25005.52        45.96    39.265926     1      5   \n",
       "2016-01-05 02:00:00        23983.51        43.82    37.481111     2      5   \n",
       "2016-01-05 03:00:00        23194.25         9.29    32.440794     3      5   \n",
       "2016-01-05 04:00:00        23155.13         1.78     2.655804     4      5   \n",
       "\n",
       "                     YEAR  DAY  WEEKDAY  Sistem Yönü (h-1)  \n",
       "dt                                                          \n",
       "2016-01-05 00:00:00  2016    1        7                  1  \n",
       "2016-01-05 01:00:00  2016    1        7                  1  \n",
       "2016-01-05 02:00:00  2016    1        7                  1  \n",
       "2016-01-05 03:00:00  2016    1        7                  1  \n",
       "2016-01-05 04:00:00  2016    1        7                  1  \n",
       "\n",
       "[5 rows x 59 columns]"
      ]
     },
     "execution_count": 125,
     "metadata": {},
     "output_type": "execute_result"
    }
   ],
   "source": [
    "df.head()"
   ]
  },
  {
   "cell_type": "code",
   "execution_count": 126,
   "metadata": {},
   "outputs": [],
   "source": [
    "from pandas import read_csv\n",
    "from sklearn.model_selection import train_test_split\n",
    "# load the dataset\n",
    "# retrieve the array\n",
    "data = df.values"
   ]
  },
  {
   "cell_type": "code",
   "execution_count": 127,
   "metadata": {},
   "outputs": [],
   "source": [
    "# split into input and output elements\n",
    "X, y = data[:, 1:], data[:, 0]"
   ]
  },
  {
   "cell_type": "code",
   "execution_count": 128,
   "metadata": {},
   "outputs": [],
   "source": [
    "def split_train_test(df,n):\n",
    "   \n",
    "    return df[:n].copy(), df[n:].copy()"
   ]
  },
  {
   "cell_type": "code",
   "execution_count": 129,
   "metadata": {},
   "outputs": [
    {
     "data": {
      "text/plain": [
       "((30677, 58), (30677,), (13147, 58), (13147,))"
      ]
     },
     "execution_count": 129,
     "metadata": {},
     "output_type": "execute_result"
    }
   ],
   "source": [
    "n_test = int(len(data) * 0.3)\n",
    "n_train = len(data)-n_test\n",
    "X_train, X_test = split_train_test(X, n_train)\n",
    "y_train, y_test = split_train_test(y , n_train)\n",
    "\n",
    "X_train.shape, y_train.shape, X_test.shape, y_test.shape"
   ]
  },
  {
   "cell_type": "markdown",
   "metadata": {},
   "source": [
    "# Baseline Model Performance (Linear Regression)"
   ]
  },
  {
   "cell_type": "code",
   "execution_count": 130,
   "metadata": {
    "collapsed": true
   },
   "outputs": [
    {
     "data": {
      "text/plain": [
       "GIP USD                     0\n",
       "PTF (USD/MWh)               0\n",
       "GOP Islem Hacmi (USD)       0\n",
       "Toplam Uretim (MWh)         0\n",
       "Yenilenebilir Uretim        0\n",
       "Doğal Gaz                   0\n",
       "Barajlı                     0\n",
       "Linyit                      0\n",
       "Akarsu                      0\n",
       "İthal Kömür                 0\n",
       "Rüzgar                      0\n",
       "Güneş                       0\n",
       "Fuel Oil                    0\n",
       "Jeotermal                   0\n",
       "Asfaltit Kömür              0\n",
       "Taş Kömür                   0\n",
       "Biyokütle                   0\n",
       "Nafta                       0\n",
       "LNG                         0\n",
       "Uluslararası                0\n",
       "Demand                      0\n",
       "Demand (h-1)                0\n",
       "PTF (h-1)                   0\n",
       "GIP (h-1)                   0\n",
       "Pozitif dengesizlik(h-1)    0\n",
       "Negatif dengesizlik(h-1)    0\n",
       "Demand (h-2)                0\n",
       "PTF (h-2)                   0\n",
       "GIP (h-2)                   0\n",
       "Pozitif dengesizlik(h-2)    0\n",
       "Negatif dengesizlik(h-2)    0\n",
       "Demand (h-3)                0\n",
       "PTF (h-3)                   0\n",
       "GIP (h-3)                   0\n",
       "Pozitif dengesizlik(h-3)    0\n",
       "Negatif dengesizlik(h-3)    0\n",
       "Demand (h-8)                0\n",
       "PTF (h-8)                   0\n",
       "GIP (h-8)                   0\n",
       "Pozitif dengesizlik(h-8)    0\n",
       "Negatif dengesizlik(h-8)    0\n",
       "Demand (h-24)               0\n",
       "PTF (h-24)                  0\n",
       "GIP (h-24)                  0\n",
       "Demand (h-48)               0\n",
       "PTF (h-48)                  0\n",
       "GIP (h-48)                  0\n",
       "Demand (h-72)               0\n",
       "PTF (h-72)                  0\n",
       "GIP (h-72)                  0\n",
       "Demand (h-168)              0\n",
       "PTF (h-168)                 0\n",
       "GIP (h-168)                 0\n",
       "HOUR                        0\n",
       "MONTH                       0\n",
       "YEAR                        0\n",
       "DAY                         0\n",
       "WEEKDAY                     0\n",
       "Sistem Yönü (h-1)           0\n",
       "dtype: int64"
      ]
     },
     "execution_count": 130,
     "metadata": {},
     "output_type": "execute_result"
    }
   ],
   "source": [
    "df.isna().sum()"
   ]
  },
  {
   "cell_type": "code",
   "execution_count": 131,
   "metadata": {},
   "outputs": [
    {
     "name": "stdout",
     "output_type": "stream",
     "text": [
      "MAE: 1.009\n"
     ]
    }
   ],
   "source": [
    "from sklearn.linear_model import LinearRegression\n",
    "from sklearn.metrics import mean_absolute_error\n",
    "# fit the model\n",
    "model = LinearRegression()\n",
    "model.fit(X_train, y_train)\n",
    "# evaluate the model\n",
    "yhat = model.predict(X_test)\n",
    "# evaluate predictions\n",
    "mae = mean_absolute_error(y_test, yhat)\n",
    "print('MAE: %.3f' % mae)"
   ]
  },
  {
   "cell_type": "code",
   "execution_count": 132,
   "metadata": {},
   "outputs": [
    {
     "name": "stdout",
     "output_type": "stream",
     "text": [
      "MAE: 1.241\n"
     ]
    }
   ],
   "source": [
    "from sklearn.linear_model import LinearRegression\n",
    "from sklearn.metrics import mean_absolute_error\n",
    "# fit the model\n",
    "model = LinearRegression()\n",
    "model.fit(X_train, y_train)\n",
    "# evaluate the model\n",
    "yhat = model.predict(X_train)\n",
    "# evaluate predictions\n",
    "mae = mean_absolute_error(y_train, yhat)\n",
    "print('MAE: %.3f' % mae)"
   ]
  },
  {
   "cell_type": "markdown",
   "metadata": {},
   "source": [
    "# Beyca Ders"
   ]
  },
  {
   "cell_type": "code",
   "execution_count": 187,
   "metadata": {},
   "outputs": [],
   "source": [
    "import tensorflow as tf\n",
    "import numpy as np\n",
    "import matplotlib.pyplot as plt\n",
    "import os\n",
    "import pandas as pd"
   ]
  },
  {
   "cell_type": "code",
   "execution_count": 188,
   "metadata": {
    "scrolled": true
   },
   "outputs": [
    {
     "data": {
      "text/html": [
       "<div>\n",
       "<style scoped>\n",
       "    .dataframe tbody tr th:only-of-type {\n",
       "        vertical-align: middle;\n",
       "    }\n",
       "\n",
       "    .dataframe tbody tr th {\n",
       "        vertical-align: top;\n",
       "    }\n",
       "\n",
       "    .dataframe thead th {\n",
       "        text-align: right;\n",
       "    }\n",
       "</style>\n",
       "<table border=\"1\" class=\"dataframe\">\n",
       "  <thead>\n",
       "    <tr style=\"text-align: right;\">\n",
       "      <th></th>\n",
       "      <th>GIP USD</th>\n",
       "      <th>PTF (USD/MWh)</th>\n",
       "    </tr>\n",
       "    <tr>\n",
       "      <th>dt</th>\n",
       "      <th></th>\n",
       "      <th></th>\n",
       "    </tr>\n",
       "  </thead>\n",
       "  <tbody>\n",
       "    <tr>\n",
       "      <th>2016-01-05 00:00:00</th>\n",
       "      <td>9.259619</td>\n",
       "      <td>48.19</td>\n",
       "    </tr>\n",
       "    <tr>\n",
       "      <th>2016-01-05 01:00:00</th>\n",
       "      <td>17.872493</td>\n",
       "      <td>35.72</td>\n",
       "    </tr>\n",
       "    <tr>\n",
       "      <th>2016-01-05 02:00:00</th>\n",
       "      <td>7.347060</td>\n",
       "      <td>24.99</td>\n",
       "    </tr>\n",
       "    <tr>\n",
       "      <th>2016-01-05 03:00:00</th>\n",
       "      <td>4.800000</td>\n",
       "      <td>0.12</td>\n",
       "    </tr>\n",
       "    <tr>\n",
       "      <th>2016-01-05 04:00:00</th>\n",
       "      <td>4.289878</td>\n",
       "      <td>0.29</td>\n",
       "    </tr>\n",
       "  </tbody>\n",
       "</table>\n",
       "</div>"
      ],
      "text/plain": [
       "                       GIP USD  PTF (USD/MWh)\n",
       "dt                                           \n",
       "2016-01-05 00:00:00   9.259619          48.19\n",
       "2016-01-05 01:00:00  17.872493          35.72\n",
       "2016-01-05 02:00:00   7.347060          24.99\n",
       "2016-01-05 03:00:00   4.800000           0.12\n",
       "2016-01-05 04:00:00   4.289878           0.29"
      ]
     },
     "execution_count": 188,
     "metadata": {},
     "output_type": "execute_result"
    }
   ],
   "source": [
    "df.head()"
   ]
  },
  {
   "cell_type": "code",
   "execution_count": 189,
   "metadata": {},
   "outputs": [],
   "source": [
    "df = df[[\"PTF (USD/MWh)\",\"GIP USD\"]]"
   ]
  },
  {
   "cell_type": "code",
   "execution_count": 190,
   "metadata": {},
   "outputs": [
    {
     "data": {
      "text/html": [
       "<div>\n",
       "<style scoped>\n",
       "    .dataframe tbody tr th:only-of-type {\n",
       "        vertical-align: middle;\n",
       "    }\n",
       "\n",
       "    .dataframe tbody tr th {\n",
       "        vertical-align: top;\n",
       "    }\n",
       "\n",
       "    .dataframe thead th {\n",
       "        text-align: right;\n",
       "    }\n",
       "</style>\n",
       "<table border=\"1\" class=\"dataframe\">\n",
       "  <thead>\n",
       "    <tr style=\"text-align: right;\">\n",
       "      <th></th>\n",
       "      <th>PTF (USD/MWh)</th>\n",
       "      <th>GIP USD</th>\n",
       "    </tr>\n",
       "    <tr>\n",
       "      <th>dt</th>\n",
       "      <th></th>\n",
       "      <th></th>\n",
       "    </tr>\n",
       "  </thead>\n",
       "  <tbody>\n",
       "    <tr>\n",
       "      <th>2016-01-05 00:00:00</th>\n",
       "      <td>48.19</td>\n",
       "      <td>9.259619</td>\n",
       "    </tr>\n",
       "    <tr>\n",
       "      <th>2016-01-05 01:00:00</th>\n",
       "      <td>35.72</td>\n",
       "      <td>17.872493</td>\n",
       "    </tr>\n",
       "    <tr>\n",
       "      <th>2016-01-05 02:00:00</th>\n",
       "      <td>24.99</td>\n",
       "      <td>7.347060</td>\n",
       "    </tr>\n",
       "    <tr>\n",
       "      <th>2016-01-05 03:00:00</th>\n",
       "      <td>0.12</td>\n",
       "      <td>4.800000</td>\n",
       "    </tr>\n",
       "    <tr>\n",
       "      <th>2016-01-05 04:00:00</th>\n",
       "      <td>0.29</td>\n",
       "      <td>4.289878</td>\n",
       "    </tr>\n",
       "  </tbody>\n",
       "</table>\n",
       "</div>"
      ],
      "text/plain": [
       "                     PTF (USD/MWh)    GIP USD\n",
       "dt                                           \n",
       "2016-01-05 00:00:00          48.19   9.259619\n",
       "2016-01-05 01:00:00          35.72  17.872493\n",
       "2016-01-05 02:00:00          24.99   7.347060\n",
       "2016-01-05 03:00:00           0.12   4.800000\n",
       "2016-01-05 04:00:00           0.29   4.289878"
      ]
     },
     "execution_count": 190,
     "metadata": {},
     "output_type": "execute_result"
    }
   ],
   "source": [
    "df.head()"
   ]
  },
  {
   "cell_type": "code",
   "execution_count": 191,
   "metadata": {},
   "outputs": [
    {
     "name": "stdout",
     "output_type": "stream",
     "text": [
      "(35059, 2)\n",
      "(8765, 2)\n"
     ]
    }
   ],
   "source": [
    "#datayi hazirlamadan once bir train ve test diye ayiralim.\n",
    "n = len(df)\n",
    "train_df = df[:int(0.8*n)]\n",
    "test_df = df[int(0.8*n):]\n",
    "print(train_df.shape)\n",
    "print(test_df.shape)\n",
    "\n",
    "#simdi datayi normalize etmemiz lazim (butun deep learning modelleri icin bunu unutmamaliyiz)\n",
    "#train datasi uzerinden normalize edecegiz.\n",
    "train_mean = train_df.mean()\n",
    "train_std = train_df.std()\n",
    "\n",
    "train_df = (train_df - train_mean) / train_std\n",
    "test_df = (test_df - train_mean) / train_std"
   ]
  },
  {
   "cell_type": "code",
   "execution_count": 192,
   "metadata": {},
   "outputs": [],
   "source": [
    "#offset kac adim sonrasini tahmin etmek istedigimizle alakalidir.\n",
    "#period kac tane datayi tahmin edecegimizle alakalidir.\n",
    "#period offsetten buyuk olamaz.\n",
    "#target_col = 1 yani 1.sutunu tahmin ediyoruz 0'i degil.\n",
    "def make_data(data,lag = 72, offset = 2, period = 1, target_col = 1):\n",
    "    X = []\n",
    "    y = []\n",
    "    for i in range(len(data) - lag - offset):\n",
    "        X.append(data[i:i+lag,:])\n",
    "        y.append(data[i+lag + offset - 1,target_col])\n",
    "\n",
    "    return np.array(X), np.array(y)"
   ]
  },
  {
   "cell_type": "code",
   "execution_count": 193,
   "metadata": {},
   "outputs": [
    {
     "name": "stdout",
     "output_type": "stream",
     "text": [
      "(34986, 72, 2)\n",
      "[[[ 0.13301204 -2.60189507]\n",
      "  [-0.72738909 -1.98835366]\n",
      "  [-1.46773425 -2.73813697]\n",
      "  [-3.18370669 -2.91957777]\n",
      "  [-3.17197708 -2.95591651]\n",
      "  [-3.1712871  -3.08978844]\n",
      "  [-3.17956683 -3.23636573]\n",
      "  [-3.17197708 -3.25815066]\n",
      "  [-3.17059713 -3.25893984]\n",
      "  [-1.09859664 -3.26150763]\n",
      "  [ 0.1461216   0.05312937]\n",
      "  [ 1.20523607  1.24043654]\n",
      "  [ 1.04378149  1.08239204]\n",
      "  [ 1.11829899  1.16415514]\n",
      "  [-0.08985048 -0.08775104]\n",
      "  [-0.48313728 -0.47040026]\n",
      "  [-0.60526319 -0.5593603 ]\n",
      "  [-0.72876904 -0.71586173]\n",
      "  [-0.72738909 -0.73020323]\n",
      "  [ 1.04378149  1.09154449]\n",
      "  [ 1.30390276  1.45189429]\n",
      "  [ 1.11829899  1.2361192 ]\n",
      "  [ 1.04792135  1.17515391]\n",
      "  [-0.08985048 -0.07758038]\n",
      "  [-0.72738909 -0.71697962]\n",
      "  [-1.46773425 -1.49023618]\n",
      "  [-1.71474597 -1.73584945]\n",
      "  [-3.06779058 -3.08341916]\n",
      "  [-3.06779058 -3.08377181]\n",
      "  [-1.46842423 -1.48153911]\n",
      "  [-1.46842423 -1.52425232]\n",
      "  [ 1.11829899  1.31672912]\n",
      "  [-0.72876904 -0.72069289]\n",
      "  [ 1.48743661  1.72554554]\n",
      "  [ 1.85519427  1.93715449]\n",
      "  [ 2.22640182  2.33642146]\n",
      "  [ 1.48605665  1.61020969]\n",
      "  [ 1.48743661  1.6304539 ]\n",
      "  [ 1.48743661  1.72911376]\n",
      "  [ 1.41567901  1.59171505]\n",
      "  [ 1.11829899  1.26460402]\n",
      "  [ 1.04792135  1.14209763]\n",
      "  [ 0.09437334  0.14821673]\n",
      "  [ 0.64221496  0.68509189]\n",
      "  [ 1.7378982   1.76952385]\n",
      "  [ 1.20592605  1.25157141]\n",
      "  [ 0.64221496  0.66042723]\n",
      "  [-0.99027027 -1.0616227 ]\n",
      "  [ 1.59852288  1.68436527]\n",
      "  [ 1.04378149  1.11442986]\n",
      "  [ 0.25582792  0.41178674]\n",
      "  [-1.46773425 -1.48006376]\n",
      "  [-1.46842423 -1.47899673]\n",
      "  [-1.34560835 -1.3509261 ]\n",
      "  [-0.72669911 -0.71041847]\n",
      "  [ 0.13301204  0.18404079]\n",
      "  [ 0.47662052  0.58100359]\n",
      "  [ 1.78343668  1.86535953]\n",
      "  [ 2.12773513  2.21395804]\n",
      "  [ 2.12773513  2.21039808]\n",
      "  [ 0.00950619  0.12671437]\n",
      "  [ 0.44350163  0.60656412]\n",
      "  [ 1.04378149  1.18537451]\n",
      "  [ 1.00859267  1.13429655]\n",
      "  [ 1.00859267  1.1225995 ]\n",
      "  [-0.13883884 -0.0142377 ]\n",
      "  [-1.09859664 -0.87847784]\n",
      "  [ 1.48743661  1.67520508]\n",
      "  [ 1.48743661  1.58289918]\n",
      "  [ 1.20523607  1.2872232 ]\n",
      "  [-0.13883884 -0.05060102]\n",
      "  [-0.43000907 -0.30596179]]\n",
      "\n",
      " [[-0.72738909 -1.98835366]\n",
      "  [-1.46773425 -2.73813697]\n",
      "  [-3.18370669 -2.91957777]\n",
      "  [-3.17197708 -2.95591651]\n",
      "  [-3.1712871  -3.08978844]\n",
      "  [-3.17956683 -3.23636573]\n",
      "  [-3.17197708 -3.25815066]\n",
      "  [-3.17059713 -3.25893984]\n",
      "  [-1.09859664 -3.26150763]\n",
      "  [ 0.1461216   0.05312937]\n",
      "  [ 1.20523607  1.24043654]\n",
      "  [ 1.04378149  1.08239204]\n",
      "  [ 1.11829899  1.16415514]\n",
      "  [-0.08985048 -0.08775104]\n",
      "  [-0.48313728 -0.47040026]\n",
      "  [-0.60526319 -0.5593603 ]\n",
      "  [-0.72876904 -0.71586173]\n",
      "  [-0.72738909 -0.73020323]\n",
      "  [ 1.04378149  1.09154449]\n",
      "  [ 1.30390276  1.45189429]\n",
      "  [ 1.11829899  1.2361192 ]\n",
      "  [ 1.04792135  1.17515391]\n",
      "  [-0.08985048 -0.07758038]\n",
      "  [-0.72738909 -0.71697962]\n",
      "  [-1.46773425 -1.49023618]\n",
      "  [-1.71474597 -1.73584945]\n",
      "  [-3.06779058 -3.08341916]\n",
      "  [-3.06779058 -3.08377181]\n",
      "  [-1.46842423 -1.48153911]\n",
      "  [-1.46842423 -1.52425232]\n",
      "  [ 1.11829899  1.31672912]\n",
      "  [-0.72876904 -0.72069289]\n",
      "  [ 1.48743661  1.72554554]\n",
      "  [ 1.85519427  1.93715449]\n",
      "  [ 2.22640182  2.33642146]\n",
      "  [ 1.48605665  1.61020969]\n",
      "  [ 1.48743661  1.6304539 ]\n",
      "  [ 1.48743661  1.72911376]\n",
      "  [ 1.41567901  1.59171505]\n",
      "  [ 1.11829899  1.26460402]\n",
      "  [ 1.04792135  1.14209763]\n",
      "  [ 0.09437334  0.14821673]\n",
      "  [ 0.64221496  0.68509189]\n",
      "  [ 1.7378982   1.76952385]\n",
      "  [ 1.20592605  1.25157141]\n",
      "  [ 0.64221496  0.66042723]\n",
      "  [-0.99027027 -1.0616227 ]\n",
      "  [ 1.59852288  1.68436527]\n",
      "  [ 1.04378149  1.11442986]\n",
      "  [ 0.25582792  0.41178674]\n",
      "  [-1.46773425 -1.48006376]\n",
      "  [-1.46842423 -1.47899673]\n",
      "  [-1.34560835 -1.3509261 ]\n",
      "  [-0.72669911 -0.71041847]\n",
      "  [ 0.13301204  0.18404079]\n",
      "  [ 0.47662052  0.58100359]\n",
      "  [ 1.78343668  1.86535953]\n",
      "  [ 2.12773513  2.21395804]\n",
      "  [ 2.12773513  2.21039808]\n",
      "  [ 0.00950619  0.12671437]\n",
      "  [ 0.44350163  0.60656412]\n",
      "  [ 1.04378149  1.18537451]\n",
      "  [ 1.00859267  1.13429655]\n",
      "  [ 1.00859267  1.1225995 ]\n",
      "  [-0.13883884 -0.0142377 ]\n",
      "  [-1.09859664 -0.87847784]\n",
      "  [ 1.48743661  1.67520508]\n",
      "  [ 1.48743661  1.58289918]\n",
      "  [ 1.20523607  1.2872232 ]\n",
      "  [-0.13883884 -0.05060102]\n",
      "  [-0.43000907 -0.30596179]\n",
      "  [ 1.74893783  1.81287729]]]\n",
      "[1.81287729 1.2069479 ]\n"
     ]
    }
   ],
   "source": [
    "lag = 72 #3 saat oncesine bakip sicakligi tahmin ediyor\n",
    "offset = 1 #1 saat sonrasini tahmin ediyor.\n",
    "period = 1\n",
    "target_col = 1\n",
    "n_features = train_df.shape[1]\n",
    "#train_df.values dersek sade bir numpy arrayi olarak alir.\n",
    "X_train, y_train = make_data(train_df.values, lag = lag, offset = offset, period = period,target_col = target_col)\n",
    "X_test, y_test = make_data(test_df.values, lag = lag, offset = offset, period = period,target_col = target_col)\n",
    "print(X_train.shape) #56k sample var her bir satirda 3 adim geriye bakmisim, 2 tane de featureimiz var.\n",
    "print(X_train[:2])\n",
    "print(y_train[:2])"
   ]
  },
  {
   "cell_type": "code",
   "execution_count": 194,
   "metadata": {},
   "outputs": [],
   "source": [
    "model = tf.keras.models.Sequential()\n",
    "\n",
    "model.add(tf.keras.layers.LSTM(64,input_shape = (lag, n_features)))\n",
    "model.add(tf.keras.layers.Dense(32, activation = 'relu'))\n",
    "model.add(tf.keras.layers.Dense(period)) #activation linear olsun"
   ]
  },
  {
   "cell_type": "code",
   "execution_count": 195,
   "metadata": {
    "collapsed": true
   },
   "outputs": [
    {
     "name": "stdout",
     "output_type": "stream",
     "text": [
      "Epoch 1/15\n",
      "1094/1094 [==============================] - 34s 31ms/step - loss: 0.3223 - mape: 281.9865\n",
      "Epoch 2/15\n",
      "1094/1094 [==============================] - 34s 31ms/step - loss: 0.2650 - mape: 271.8098\n",
      "Epoch 3/15\n",
      "1094/1094 [==============================] - 33s 30ms/step - loss: 0.2561 - mape: 280.3240\n",
      "Epoch 4/15\n",
      "1094/1094 [==============================] - 33s 30ms/step - loss: 0.2589 - mape: 244.2489\n",
      "Epoch 5/15\n",
      "1094/1094 [==============================] - 34s 31ms/step - loss: 0.2447 - mape: 260.9510\n",
      "Epoch 6/15\n",
      "1094/1094 [==============================] - 34s 31ms/step - loss: 0.2528 - mape: 286.4273\n",
      "Epoch 7/15\n",
      "1094/1094 [==============================] - 34s 31ms/step - loss: 0.2531 - mape: 264.5842\n",
      "Epoch 8/15\n",
      "1094/1094 [==============================] - 33s 30ms/step - loss: 0.2526 - mape: 257.6574\n",
      "Epoch 9/15\n",
      "1094/1094 [==============================] - 34s 31ms/step - loss: 0.2378 - mape: 234.3220\n",
      "Epoch 10/15\n",
      "1094/1094 [==============================] - 33s 31ms/step - loss: 0.2443 - mape: 252.8086\n",
      "Epoch 11/15\n",
      "1094/1094 [==============================] - 34s 31ms/step - loss: 0.2512 - mape: 253.46750s - loss: 0.2516 - mape\n",
      "Epoch 12/15\n",
      "1094/1094 [==============================] - 33s 30ms/step - loss: 0.2376 - mape: 262.5963\n",
      "Epoch 13/15\n",
      "1094/1094 [==============================] - 35s 32ms/step - loss: 0.2382 - mape: 267.9584\n",
      "Epoch 14/15\n",
      "1094/1094 [==============================] - 34s 31ms/step - loss: 0.2354 - mape: 250.6503\n",
      "Epoch 15/15\n",
      "1094/1094 [==============================] - 33s 30ms/step - loss: 0.2340 - mape: 263.3859\n"
     ]
    },
    {
     "data": {
      "text/plain": [
       "<tensorflow.python.keras.callbacks.History at 0x1932b8c85e0>"
      ]
     },
     "execution_count": 195,
     "metadata": {},
     "output_type": "execute_result"
    }
   ],
   "source": [
    "model.compile(optimizer = 'adam',loss = 'mse', metrics = ['mape'])\n",
    "model.fit(X_train,y_train, epochs = 15)"
   ]
  },
  {
   "cell_type": "code",
   "execution_count": 202,
   "metadata": {},
   "outputs": [
    {
     "data": {
      "text/plain": [
       "<matplotlib.legend.Legend at 0x19314f72df0>"
      ]
     },
     "execution_count": 202,
     "metadata": {},
     "output_type": "execute_result"
    },
    {
     "data": {
      "image/png": "[encoded data removed]",
      "text/plain": [
       "<Figure size 432x288 with 1 Axes>"
      ]
     },
     "metadata": {
      "needs_background": "light"
     },
     "output_type": "display_data"
    }
   ],
   "source": [
    "ypred = model.predict(X_test)\n",
    "\n",
    "plt.plot(y_test[-5:], '-ob', label =  'observed')\n",
    "plt.plot(ypred[-5:], '-r', label = 'forecasted')\n",
    "plt.grid()\n",
    "plt.legend()"
   ]
  },
  {
   "cell_type": "code",
   "execution_count": 221,
   "metadata": {},
   "outputs": [],
   "source": [
    "ypred_old = (ypred * train_std[1]) + train_mean[1]"
   ]
  },
  {
   "cell_type": "code",
   "execution_count": 222,
   "metadata": {},
   "outputs": [],
   "source": [
    "y_test_old = (y_test*train_std[1]) + train_mean[1]"
   ]
  },
  {
   "cell_type": "code",
   "execution_count": 223,
   "metadata": {},
   "outputs": [
    {
     "data": {
      "text/plain": [
       "array([[39.999226],\n",
       "       [41.462337],\n",
       "       [34.43588 ],\n",
       "       ...,\n",
       "       [44.108963],\n",
       "       [41.781982],\n",
       "       [40.515472]], dtype=float32)"
      ]
     },
     "execution_count": 223,
     "metadata": {},
     "output_type": "execute_result"
    }
   ],
   "source": [
    "ypred_old"
   ]
  },
  {
   "cell_type": "code",
   "execution_count": 224,
   "metadata": {},
   "outputs": [
    {
     "data": {
      "text/plain": [
       "array([45.09107146, 40.47639835, 36.07515139, ..., 40.19173603,\n",
       "       41.35041244, 42.83946655])"
      ]
     },
     "execution_count": 224,
     "metadata": {},
     "output_type": "execute_result"
    }
   ],
   "source": [
    "y_test_old"
   ]
  },
  {
   "cell_type": "code",
   "execution_count": 227,
   "metadata": {},
   "outputs": [],
   "source": [
    "from sklearn.metrics import mean_absolute_error as mae"
   ]
  },
  {
   "cell_type": "code",
   "execution_count": 228,
   "metadata": {},
   "outputs": [
    {
     "data": {
      "text/plain": [
       "2.584171194447044"
      ]
     },
     "execution_count": 228,
     "metadata": {},
     "output_type": "execute_result"
    }
   ],
   "source": [
    "mae(ypred_old,y_test_old)"
   ]
  },
  {
   "cell_type": "code",
   "execution_count": null,
   "metadata": {},
   "outputs": [],
   "source": []
  }
 ],
 "metadata": {
  "kernelspec": {
   "display_name": "Python 3",
   "language": "python",
   "name": "python3"
  },
  "language_info": {
   "codemirror_mode": {
    "name": "ipython",
    "version": 3
   },
   "file_extension": ".py",
   "mimetype": "text/x-python",
   "name": "python",
   "nbconvert_exporter": "python",
   "pygments_lexer": "ipython3",
   "version": "3.8.3"
  }
 },
 "nbformat": 4,
 "nbformat_minor": 4
}
